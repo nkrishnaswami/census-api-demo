{
 "cells": [
  {
   "cell_type": "markdown",
   "metadata": {},
   "source": [
    "# Census Data API Demo\n",
    "\n",
    "## Overview\n",
    "\n",
    "The Census Bureau has an API for accessing many of their datasets. It returns JSON array data for the requested columns.\n",
    "\n",
    "> The Census Data Application Programming Interface (API) is a data service that enables software developers to access and use Census Bureau data within their applications.\n",
    "\n",
    "# Usage\n",
    "\n",
    "The primary doc is the [Census Data API User Guide](https://www.census.gov/content/dam/Census/data/developers/api-user-guide/api-guide.pdf)\n",
    "\n",
    "The query model is fairly simple, all GET queries with query parameters:  \n",
    "```https://api.census.gov/data/2014/pep/natstprc?get=STNAME,POP&DATE_=7&for=state:*```\n",
    "\n",
    "* The URL scheme is alway `https`\n",
    "* The server is always `api.census.gov`\n",
    "* The path part of the URL always begins with `/data/`, and identifies a vintage, program and survey/dataset\n",
    "\n",
    "Some key query parameters:\n",
    "\n",
    "|Param|Example Value|Description|\n",
    "|---|---|---|\n",
    "|`get`|`get=STNAME,POP`|The variables to return|\n",
    "|_variable name_|`DATE_=7`|Predicates, or constraints on the values. See the user guide for details.|\n",
    "|`for`|`for=county:*`|The geography for which to return data|\n",
    "|`in`|`in=state:NY`|The containing geography for which to limit `for` wildcard values|\n",
    "|`key`|`key=`_your key_|The API key you receive from the Census Bureau|\n",
    "\n",
    "Values are returned as a JSON array whose first row consists of field names.\n",
    "\n",
    "The API provides discovery documents in user and machine readable form:\n",
    "\n",
    "* Dataset discovery: appending `.html` or `.json` to any prefix of path components will show the datasets (endpoints/API base URLs) with links to each of their valid geographies, valid variables, examples, and other metadata.  \n",
    "E.g., https://api.census.gov/data/2014/pep.html\n",
    "* Geography levels: appending a path component of `geography.html` (or json) to an endpoint URL will show the geography levels (combinations of `for`/`in` geographies) you can query in a given dataset.  \n",
    "E.g., https://api.census.gov/data/2014/pep/subcty/geography.html\n",
    "* Variables: appending a path component of `variables.html` (or json) to an endpoint URL will show the variables (data) you can query in a given dataset.  \n",
    "E.g., https://api.census.gov/data/2014/pep/subcty/variables.html\n",
    "* Groups: appending a path component of `groups.html` (or json) to an endpoint URL wil show you the groups you can query in a given dataset. Groups are thematic collections of variables. You can request all the variables in a group using the syntax `get=group(`_groupid_`)`. For more information, see https://www.census.gov/data/developers/updates/groups-functionality.html  \n",
    "E.g., https://api.census.gov/data/2018/acs/acs1/groups.html\n",
    "\n",
    "## Limits\n",
    "A single query may request up to 50 variables (more using groups).\n",
    "\n",
    "To make more than 500 requests per day per IP address, you need to include an API key. You can request one at [Request A Key](https://api.census.gov/data/key_signup.html).\n",
    "\n",
    "This requires agreeing to the [Terms of Service](https://www.census.gov/data/developers/about/terms-of-service.html), which among other things require attribution and disclaiming endorsement by the Census Bureau.\n"
   ]
  },
  {
   "cell_type": "code",
   "execution_count": null,
   "metadata": {},
   "outputs": [],
   "source": [
    "import pandas as pd\n",
    "import requests"
   ]
  },
  {
   "cell_type": "code",
   "execution_count": null,
   "metadata": {},
   "outputs": [],
   "source": [
    "def get_acs5_data(fields, vintage, for_geo, in_geo=None, key=None):\n",
    "    \"\"\"Retrieve ACS 5-year fields.\n",
    "    \n",
    "    fields: a dict mapping ACS variable names to column names.\n",
    "    vintage: the year for which to request data.\n",
    "    for_geo: a dict containing geographies for which to request data.\n",
    "    in_geo: a dict containing geographics in which to constrain data.\n",
    "    key: your Census API key\n",
    "    \n",
    "    Returns a DataFrame with the columns renamed to human-friendly names.\"\"\"\n",
    "    \n",
    "    url = f'https://api.census.gov/data/{vintage}/acs/acs5'\n",
    "    params = {\n",
    "        'get': ','.join(fields.keys()),\n",
    "        'for': ','.join(f'{k}:{v}' for k,v in for_geo.items()),\n",
    "    }\n",
    "    if in_geo:\n",
    "        params['in'] = ','.join(f'{k}:{v}' for k,v in in_geo.items())\n",
    "    if key:\n",
    "        params['key'] = key\n",
    "    r = requests.get(url, params)\n",
    "    r.raise_for_status()\n",
    "\n",
    "    df = pd.read_json(r.text)\n",
    "    df.columns = df.iloc[0]\n",
    "    df.columns  = [fields.get(column, column) for column in df.columns]\n",
    "    df = df.iloc[1:]\n",
    "    return df"
   ]
  },
  {
   "cell_type": "markdown",
   "metadata": {},
   "source": [
    "Now we will retrieve demographic characteristics for ZIP codes (technically, Zip Code Tabulation Areas).\n",
    "\n",
    "Some relevant variable groups:\n",
    "* `B02001` is Race\n",
    "* `B02002` is Detailed Race\n",
    "* `B03002` is Hispanic or Latino Origin By Race\n",
    "\n",
    "The last of these permits separate counts for common race/ethnicity combinations."
   ]
  },
  {
   "cell_type": "code",
   "execution_count": null,
   "metadata": {},
   "outputs": [],
   "source": [
    "census_data = get_acs5_data(\n",
    "    fields = {\n",
    "        'B00001_001E': 'median_income',\n",
    "        # Always use the total for a group when computing proportions with its other variables.\n",
    "        'B03002_001E': 'total_population',\n",
    "        'B03002_003E': 'non_hispanic_white_population',\n",
    "        'B03002_004E': 'non_hispanic_black_population',\n",
    "        'B03002_006E': 'asian_population',\n",
    "        'B03002_012E': 'hispanic_population',\n",
    "    },\n",
    "    vintage=2018,\n",
    "    for_geo={\n",
    "        'zip code tabulation area': '*',\n",
    "    }\n",
    ")"
   ]
  },
  {
   "cell_type": "code",
   "execution_count": null,
   "metadata": {},
   "outputs": [],
   "source": [
    "census_data.head()"
   ]
  },
  {
   "cell_type": "markdown",
   "metadata": {},
   "source": [
    "As a complication, these values are all returned as strings.  We need to cast them to numerical types before we can compute percentages. (Note: always leave the geography IDs as strings.)"
   ]
  },
  {
   "cell_type": "code",
   "execution_count": null,
   "metadata": {},
   "outputs": [],
   "source": [
    "census_data[[\n",
    "    'median_income',\n",
    "    'total_population',\n",
    "    'non_hispanic_white_population',\n",
    "    'non_hispanic_black_population',\n",
    "    'asian_population',\n",
    "    'hispanic_population',\n",
    "]] = census_data[[\n",
    "    'median_income',\n",
    "    'total_population',\n",
    "    'non_hispanic_white_population',\n",
    "    'non_hispanic_black_population',\n",
    "    'asian_population',\n",
    "    'hispanic_population',\n",
    "]].astype(float)"
   ]
  },
  {
   "cell_type": "code",
   "execution_count": null,
   "metadata": {},
   "outputs": [],
   "source": [
    "census_data.describe()"
   ]
  },
  {
   "cell_type": "markdown",
   "metadata": {},
   "source": [
    "As we can see from the summary, some ZCTAs do not have `median_income` values.\n",
    "\n",
    "Now we can compute the percentage values (or rather, proportions) from the counts."
   ]
  },
  {
   "cell_type": "code",
   "execution_count": null,
   "metadata": {},
   "outputs": [],
   "source": [
    "census_data['non_hispanic_white_fraction'] = census_data['non_hispanic_white_population'] / census_data['total_population']\n",
    "census_data['non_hispanic_black_fraction'] = census_data['non_hispanic_black_population'] / census_data['total_population']\n",
    "census_data['hispanic_fraction'] = census_data['hispanic_population'] / census_data['total_population']\n",
    "census_data['asian_fraction'] = census_data['asian_population'] / census_data['total_population']"
   ]
  },
  {
   "cell_type": "code",
   "execution_count": null,
   "metadata": {},
   "outputs": [],
   "source": [
    "census_data.describe()"
   ]
  }
 ],
 "metadata": {
  "language_info": {
   "name": "python",
   "pygments_lexer": "ipython3"
  }
 },
 "nbformat": 4,
 "nbformat_minor": 4
}
